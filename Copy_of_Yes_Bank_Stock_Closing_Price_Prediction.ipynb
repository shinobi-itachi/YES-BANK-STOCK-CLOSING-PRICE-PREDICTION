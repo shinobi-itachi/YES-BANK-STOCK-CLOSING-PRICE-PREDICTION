{
  "nbformat": 4,
  "nbformat_minor": 0,
  "metadata": {
    "colab": {
      "private_outputs": true,
      "provenance": [],
      "include_colab_link": true
    },
    "kernelspec": {
      "name": "python3",
      "display_name": "Python 3"
    },
    "language_info": {
      "name": "python"
    }
  },
  "cells": [
    {
      "cell_type": "markdown",
      "metadata": {
        "id": "view-in-github",
        "colab_type": "text"
      },
      "source": [
        "<a href=\"https://colab.research.google.com/github/shinobi-itachi/YES-BANK-STOCK-CLOSING-PRICE-PREDICTION/blob/main/Copy_of_Yes_Bank_Stock_Closing_Price_Prediction.ipynb\" target=\"_parent\"><img src=\"https://colab.research.google.com/assets/colab-badge.svg\" alt=\"Open In Colab\"/></a>"
      ]
    },
    {
      "cell_type": "markdown",
      "source": [
        "##### **Project Type**    - Supervised Regression\n",
        "##### **Contribution**    - Team\n",
        "##### **Team Member 1 -** - Rohit Kamble\n",
        "##### **Team Member 2 -** - Pratik Jogdand"
      ],
      "metadata": {
        "id": "beRrZCGUAJYm"
      }
    },
    {
      "cell_type": "markdown",
      "source": [
        "# **Project Name**    - YES BANK STOCK CLOSING PRICE PREDICTION\n",
        "\n"
      ],
      "metadata": {
        "id": "vncDsAP0Gaoa"
      }
    },
    {
      "cell_type": "markdown",
      "source": [
        "# **Project Summary -**"
      ],
      "metadata": {
        "id": "FJNUwmbgGyua"
      }
    },
    {
      "cell_type": "markdown",
      "source": [
        "The primary objective of this analysis is to employ predictive models, particularly time series models, to forecast the stock's closing price for each month. By doing so, researchers seek to understand if these models can effectively capture and respond to significant events like the fraud case involving Rana Kapoor and its potential impact on the bank's stock prices. Through this investigation, the study aims to shed light on the predictive capabilities of various models when confronted with significant real-world financial events."
      ],
      "metadata": {
        "id": "F6v_1wHtG2nS"
      }
    },
    {
      "cell_type": "markdown",
      "source": [
        "# **GitHub Link -**"
      ],
      "metadata": {
        "id": "w6K7xa23Elo4"
      }
    },
    {
      "cell_type": "markdown",
      "source": [],
      "metadata": {
        "id": "h1o69JH3Eqqn"
      }
    },
    {
      "cell_type": "markdown",
      "source": [
        "# **Problem Statement**\n"
      ],
      "metadata": {
        "id": "yQaldy8SH6Dl"
      }
    },
    {
      "cell_type": "markdown",
      "source": [
        "**Yes Bank is a well-known bank in the Indian financial domain. Since 2018, it has been in the news because of the fraud case involving Rana Kapoor. Owing to this fact, it was interesting to see how that impacted the stock prices of the company and whether Time series models or any other predictive models can do justice to such situations. This dataset has monthly stock prices of the bank since its inception and includes closing, starting, highest, and lowest stock prices of every month. The main objective is to predict the stock’s closing price of the month.**"
      ],
      "metadata": {
        "id": "DpeJGUA3kjGy"
      }
    },
    {
      "cell_type": "markdown",
      "source": [
        "### Dataset Information"
      ],
      "metadata": {
        "id": "JlHwYmJAmNHm"
      }
    },
    {
      "cell_type": "markdown",
      "source": [
        "We have 185 rows and 4 columns in our dataset with no null values. Here our dependent variable will be Close, and independent variables are - Open, High and Low.\n",
        "\n",
        "Date: It denotes the month and year of the for a particular price.\n",
        "\n",
        "Open: Open means the price at which a stock started trading that month.\n",
        "\n",
        "High: refers to the maximum price that month.\n",
        "\n",
        "Low: refers to the minimum price that month.\n",
        "\n",
        "Close: refers to the final trading price for that month, which we have to\n",
        "predict using regression"
      ],
      "metadata": {
        "id": "Dztiw0NqHp1e"
      }
    },
    {
      "cell_type": "markdown",
      "source": [
        "# ***Let's Begin !***"
      ],
      "metadata": {
        "id": "O_i_v8NEhb9l"
      }
    },
    {
      "cell_type": "code",
      "source": [
        "#import libraries\n",
        "import pandas as pd\n",
        "import matplotlib.pyplot as plt\n",
        "import seaborn as sns\n",
        "import numpy as np\n",
        "\n",
        "from sklearn.metrics import *\n",
        "\n",
        "from statsmodels.stats.outliers_influence import variance_inflation_factor\n",
        "\n",
        "from sklearn.model_selection import train_test_split\n",
        "from sklearn.linear_model import LinearRegression as LR\n",
        "from xgboost import XGBRegressor\n",
        "from sklearn import neighbors\n",
        "from sklearn.linear_model import Lasso\n",
        "from sklearn.linear_model import Ridge\n",
        "from sklearn.model_selection import GridSearchCV\n",
        "from sklearn.preprocessing import MinMaxScaler\n",
        "from sklearn.pipeline import Pipeline"
      ],
      "metadata": {
        "id": "sF2N2sOGmoRW"
      },
      "execution_count": null,
      "outputs": []
    },
    {
      "cell_type": "code",
      "source": [
        "#mount drive\n",
        "from google.colab import drive\n",
        "drive.mount('/content/drive' ,)"
      ],
      "metadata": {
        "id": "pR7QtT8kmoWP"
      },
      "execution_count": null,
      "outputs": []
    },
    {
      "cell_type": "code",
      "source": [
        "#read csv file\n",
        "df=pd.read_csv('/content/drive/MyDrive/Copy of data_YesBank_StockPrices.csv')"
      ],
      "metadata": {
        "id": "-INzyBESmork"
      },
      "execution_count": null,
      "outputs": []
    },
    {
      "cell_type": "code",
      "source": [
        "from google.colab import drive\n",
        "drive.mount('/content/drive')"
      ],
      "metadata": {
        "id": "0l-3nmEDXE_m"
      },
      "execution_count": null,
      "outputs": []
    },
    {
      "cell_type": "markdown",
      "source": [
        "## ***DATA OVERVIEW***"
      ],
      "metadata": {
        "id": "HhfV-JJviCcP"
      }
    },
    {
      "cell_type": "markdown",
      "source": [
        "### Dataset First View"
      ],
      "metadata": {
        "id": "x71ZqKXriCWQ"
      }
    },
    {
      "cell_type": "code",
      "source": [
        "# Dataset First Look\n",
        "df.head()"
      ],
      "metadata": {
        "id": "LWNFOSvLl09H"
      },
      "execution_count": null,
      "outputs": []
    },
    {
      "cell_type": "code",
      "source": [
        "df.tail()"
      ],
      "metadata": {
        "id": "FHwDSkUZr9or"
      },
      "execution_count": null,
      "outputs": []
    },
    {
      "cell_type": "code",
      "source": [
        "df.describe()"
      ],
      "metadata": {
        "id": "4zH0omYfr_gP"
      },
      "execution_count": null,
      "outputs": []
    },
    {
      "cell_type": "code",
      "source": [
        "df.info()"
      ],
      "metadata": {
        "id": "KmdCy2e0r_jm"
      },
      "execution_count": null,
      "outputs": []
    },
    {
      "cell_type": "code",
      "source": [
        "df.columns"
      ],
      "metadata": {
        "id": "PEAcjnyTsKA4"
      },
      "execution_count": null,
      "outputs": []
    },
    {
      "cell_type": "code",
      "source": [
        "df.shape"
      ],
      "metadata": {
        "id": "vZn5Zo1rsKEk"
      },
      "execution_count": null,
      "outputs": []
    },
    {
      "cell_type": "code",
      "source": [
        "#copying data to preserve orignal file\n",
        "df1= df.copy()"
      ],
      "metadata": {
        "id": "ElttKCC5shLs"
      },
      "execution_count": null,
      "outputs": []
    },
    {
      "cell_type": "markdown",
      "source": [
        "**EDA AND Data Pre-Processing**"
      ],
      "metadata": {
        "id": "HyOe-z3hsutu"
      }
    },
    {
      "cell_type": "code",
      "source": [
        "# DEPENDENT AND INDEPENDENT VARIABLES\n",
        "indep_var=df1[['High','Low','Open']]\n",
        "dep_var=df1['Close']\n"
      ],
      "metadata": {
        "id": "1sLdpKYkmox0"
      },
      "execution_count": null,
      "outputs": []
    },
    {
      "cell_type": "code",
      "source": [
        "#Instead of dropping the date, we will convert it into the proper format and use it as an index.\n",
        "\n",
        "# converting 'Date' into datetime - YYYY-MM-DD\n",
        "from datetime import datetime\n",
        "df1['Date'] = pd.to_datetime(df1['Date'].apply(lambda x: datetime.strptime(x, '%b-%y')))"
      ],
      "metadata": {
        "id": "fZqohZ_BtDr6"
      },
      "execution_count": null,
      "outputs": []
    },
    {
      "cell_type": "code",
      "source": [
        "#set date as index\n",
        "df1.set_index('Date',inplace=True)"
      ],
      "metadata": {
        "id": "iBSHP-wTtJSv"
      },
      "execution_count": null,
      "outputs": []
    },
    {
      "cell_type": "code",
      "source": [
        "#check if changes are being reflected\n",
        "df1.head()"
      ],
      "metadata": {
        "id": "tXOPvMmktJb0"
      },
      "execution_count": null,
      "outputs": []
    },
    {
      "cell_type": "markdown",
      "source": [
        "**CHECK AND HANDLE DUPLICATES**"
      ],
      "metadata": {
        "id": "XxN5epUHtTTj"
      }
    },
    {
      "cell_type": "code",
      "source": [
        "#check duplicate entries\n",
        "len(df1[df1.duplicated()])"
      ],
      "metadata": {
        "id": "AYnW36HotZ43"
      },
      "execution_count": null,
      "outputs": []
    },
    {
      "cell_type": "code",
      "source": [
        "# No Duplicates found"
      ],
      "metadata": {
        "id": "06dGXFI6teuu"
      },
      "execution_count": null,
      "outputs": []
    },
    {
      "cell_type": "markdown",
      "source": [
        "#### Missing Values/Null Values"
      ],
      "metadata": {
        "id": "PoPl-ycgm1ru"
      }
    },
    {
      "cell_type": "code",
      "source": [
        "# Missing Values/Null Values Count\n",
        "print(df1.isnull().sum())\n"
      ],
      "metadata": {
        "id": "GgHWkxvamxVg"
      },
      "execution_count": null,
      "outputs": []
    },
    {
      "cell_type": "code",
      "source": [
        "# Visualizing the missing values\n",
        "df1.isnull()"
      ],
      "metadata": {
        "id": "3q5wnI3om9sJ"
      },
      "execution_count": null,
      "outputs": []
    },
    {
      "cell_type": "markdown",
      "source": [
        "### What did you know about your dataset?"
      ],
      "metadata": {
        "id": "H0kj-8xxnORC"
      }
    },
    {
      "cell_type": "markdown",
      "source": [
        "The dataset provided for the problem consists of 185 rows and 5 columns. The columns in the dataset are labeled as follows:\n",
        "\n",
        "\n",
        "* Date: Represents the date of the month for which the stock prices are recorded.\n",
        "* Open: Indicates the opening stock price of the bank's stock for the corresponding month.\n",
        "* High: Represents the highest stock price reached during the month.\n",
        "* Low: Represents the lowest stock price reached during the month.\n",
        "* Close: Indicates the closing stock price of the bank's stock for the corresponding month.\n",
        "\n",
        "\n",
        "The dataset covers monthly stock prices of Yes Bank since its inception, providing a comprehensive record of the stock's performance over time. With this dataset, the main objective of the analysis is to predict the closing stock price of the bank for each month, exploring the potential use of time series models or other predictive models to address the impact of significant events like the fraud case involving Rana Kapoor on the stock's prices."
      ],
      "metadata": {
        "id": "gfoNAAC-nUe_"
      }
    },
    {
      "cell_type": "markdown",
      "source": [
        "### Variables Description"
      ],
      "metadata": {
        "id": "PBTbrJXOngz2"
      }
    },
    {
      "cell_type": "markdown",
      "source": [
        "* Independent Variables: High, Low, and Open represent the highest, lowest, and opening stock prices of Yes Bank for each month, respectively. These variables are used as predictors in the analysis.\n",
        "\n",
        "* Dependent Variable: Close indicates the closing stock price of Yes Bank for each month. It is the target variable to be predicted using the independent variables."
      ],
      "metadata": {
        "id": "aJV4KIxSnxay"
      }
    },
    {
      "cell_type": "markdown",
      "source": [
        "### Check Unique Values for each variable."
      ],
      "metadata": {
        "id": "u3PMJOP6ngxN"
      }
    },
    {
      "cell_type": "code",
      "source": [
        "# Check Unique Values for each variable.\n",
        "# Check Unique Values for each variable.\n",
        "for i in df1.columns.tolist():\n",
        "  print(\"No. of unique values in \",i,\"is\",df1[i].nunique(),\".\")"
      ],
      "metadata": {
        "id": "zms12Yq5n-jE"
      },
      "execution_count": null,
      "outputs": []
    },
    {
      "cell_type": "markdown",
      "source": [
        "**UNIVARIATE ANALYSIS**\n",
        "---\n",
        "We will take a look at distribution plots of our features."
      ],
      "metadata": {
        "id": "7rC_0RX0w3e4"
      }
    },
    {
      "cell_type": "markdown",
      "source": [
        "INDEPENDENT VARIABLES"
      ],
      "metadata": {
        "id": "q2Z_hvT6xALQ"
      }
    },
    {
      "cell_type": "code",
      "source": [
        "#plots for independent variables\n",
        "for var in indep_var:\n",
        "    plt.figure(figsize=(15,6))\n",
        "    plt.subplot(1, 2, 1)\n",
        "    fig = sns.distplot(df1[var].dropna())\n",
        "    fig.set_ylabel(' ')\n",
        "    fig.set_xlabel(var)\n",
        "\n",
        "    plt.subplot(1, 2, 2)\n",
        "    fig = sns.boxplot(y=df1[var])\n",
        "    fig.set_title('')\n",
        "    fig.set_ylabel(var)"
      ],
      "metadata": {
        "id": "VkA12LhUwapw"
      },
      "execution_count": null,
      "outputs": []
    },
    {
      "cell_type": "markdown",
      "source": [
        "DEPENDENT VARIABLE"
      ],
      "metadata": {
        "id": "ibzt5BQAxJtW"
      }
    },
    {
      "cell_type": "code",
      "source": [
        "#plots for dependent variable\n",
        "plt.figure(figsize=(15,6))\n",
        "plt.subplot(1, 2, 1)\n",
        "fig = sns.distplot(df1['Close'].dropna())\n",
        "fig.set_ylabel(' ')\n",
        "fig.set_xlabel(var)\n",
        "\n",
        "plt.subplot(1, 2, 2)\n",
        "fig = sns.boxplot(y=df1['Close'])\n",
        "fig.set_title('')\n",
        "fig.set_ylabel(var)"
      ],
      "metadata": {
        "id": "myBO5UqXwats"
      },
      "execution_count": null,
      "outputs": []
    },
    {
      "cell_type": "markdown",
      "source": [
        "**Since our data is skewed, we will perform some transformations during regression analysis. Let's visualize how our data will look like post transformation.**"
      ],
      "metadata": {
        "id": "KwzAvotNxWZN"
      }
    },
    {
      "cell_type": "code",
      "source": [
        "#independent variables\n",
        "for var in indep_var:\n",
        "    plt.figure(figsize=(15,6))\n",
        "    plt.subplot(1, 2, 1)\n",
        "    fig = sns.distplot(np.log10(df1[var]))\n",
        "    fig.set_ylabel(' ')\n",
        "    fig.set_xlabel(var)\n",
        "\n",
        "    plt.subplot(1, 2, 2)\n",
        "    fig = sns.boxplot(y=np.log10(df1[var]))\n",
        "    fig.set_title('')\n",
        "    fig.set_ylabel(var)"
      ],
      "metadata": {
        "id": "8-bTeLU4waxM"
      },
      "execution_count": null,
      "outputs": []
    },
    {
      "cell_type": "markdown",
      "source": [
        "Now our data mimics normal distribution to an extent."
      ],
      "metadata": {
        "id": "BXNYYaEUxjxC"
      }
    },
    {
      "cell_type": "code",
      "source": [
        "#scatter plot between dependent variable with all independent variables.\n",
        "for col in indep_var:\n",
        "   fig = plt.figure(figsize=(9, 6))\n",
        "   ax = fig.gca()\n",
        "   feature = df1[col]\n",
        "   label = df1['Close']\n",
        "   correlation = feature.corr(label)\n",
        "   plt.scatter(x=feature, y=label)\n",
        "   plt.xlabel(col)\n",
        "   plt.ylabel('closing Price')\n",
        "   ax.set_title('closing Price - ' + col + ' correlation: ' + str(correlation))\n",
        "   z = np.polyfit(df1[col], df1['Close'], 1)\n",
        "   y_hat = np.poly1d(z)(df1[col])\n",
        "\n",
        "   plt.plot(df1[col], y_hat, \"r--\", lw=1)\n",
        "\n",
        "plt.show()"
      ],
      "metadata": {
        "id": "LJ7ttI2Nwa0W"
      },
      "execution_count": null,
      "outputs": []
    },
    {
      "cell_type": "markdown",
      "source": [
        "The relationship between the independent variables (High, Low, Open) and the dependent variable (Close) appears to be linear. This implies that as the values of the independent variables change, there is a noticeable linear impact on the dependent variable, which is the closing stock price. This observation suggests that the stock's closing price is influenced by the highest, lowest, and opening prices, and their changes may have a direct and consistent effect on the overall closing price of Yes Bank's stoc"
      ],
      "metadata": {
        "id": "IfXZmvPyx32E"
      }
    },
    {
      "cell_type": "markdown",
      "source": [
        "**CORRELATION**\n",
        "---"
      ],
      "metadata": {
        "id": "PF6pmGH0x9jJ"
      }
    },
    {
      "cell_type": "code",
      "source": [
        "#correlation plot\n",
        "plt.figure(figsize=(10,5))\n",
        "sns.heatmap(df1.corr(), annot = True, cmap='coolwarm')\n",
        "plt.show()"
      ],
      "metadata": {
        "id": "_LwmAhhkwa3d"
      },
      "execution_count": null,
      "outputs": []
    },
    {
      "cell_type": "markdown",
      "source": [
        "**MULTICOLLINEARITY**\n",
        "---"
      ],
      "metadata": {
        "id": "B8m3kD_8yH0n"
      }
    },
    {
      "cell_type": "code",
      "source": [
        "#Multicollinearity\n",
        "#VIF score  {Variance Inflation Factor}\n",
        "\n",
        "def calc_vif(X):\n",
        "\n",
        "   # Calculating VIF\n",
        "   vif = pd.DataFrame()\n",
        "   vif[\"variables\"] = X.columns\n",
        "   vif[\"VIF\"] = [variance_inflation_factor(X.values, i) for i in range(X.shape[1])]\n",
        "\n",
        "   return(vif)"
      ],
      "metadata": {
        "id": "gu_-VSXxwa7f"
      },
      "execution_count": null,
      "outputs": []
    },
    {
      "cell_type": "code",
      "source": [
        "calc_vif(indep_var)"
      ],
      "metadata": {
        "id": "G3CnZEVEyV3K"
      },
      "execution_count": null,
      "outputs": []
    },
    {
      "cell_type": "markdown",
      "source": [
        "Despite high VIF scores, feature engineering won't be performed as each feature is crucial for this use case. Trying to convert high and low into a day range increased errors significantly, affirming the necessity of all data points in the dataset for accurate predictions."
      ],
      "metadata": {
        "id": "qjBtDu0fyy4O"
      }
    },
    {
      "cell_type": "markdown",
      "source": [
        "**DATAFRAME TO STORE EVALUATION METRICS**"
      ],
      "metadata": {
        "id": "w-rdTFety3Jq"
      }
    },
    {
      "cell_type": "markdown",
      "source": [
        "I'll store regression model evaluation metrics in a data frame to compare their performance and make an informed decision."
      ],
      "metadata": {
        "id": "UBy38dQSzN2l"
      }
    },
    {
      "cell_type": "code",
      "source": [
        "#empty data frame creation\n",
        "i=0\n",
        "error_df=pd.DataFrame()"
      ],
      "metadata": {
        "id": "wHUUN5NYzStt"
      },
      "execution_count": null,
      "outputs": []
    },
    {
      "cell_type": "markdown",
      "source": [
        "**LINEAR REGRESSION**\n",
        "---"
      ],
      "metadata": {
        "id": "t43eVwqUwj0T"
      }
    },
    {
      "cell_type": "code",
      "source": [
        "#train test data split\n",
        "x_train, x_test,y_train, y_test = train_test_split(indep_var,dep_var,test_size=.20,random_state=1)"
      ],
      "metadata": {
        "id": "gOTOImnQwvVP"
      },
      "execution_count": null,
      "outputs": []
    },
    {
      "cell_type": "code",
      "source": [
        "#data transformation\n",
        "scaler = MinMaxScaler()\n",
        "x_train = scaler.fit_transform(x_train)\n",
        "x_test = scaler.transform(x_test)"
      ],
      "metadata": {
        "id": "rA4sVEIcwvYI"
      },
      "execution_count": null,
      "outputs": []
    },
    {
      "cell_type": "code",
      "source": [
        "# Fitting Linear Regression to the Training set\n",
        "reg = LR()\n",
        "reg = LR().fit(x_train, y_train)"
      ],
      "metadata": {
        "id": "pe6B9lhHwva4"
      },
      "execution_count": null,
      "outputs": []
    },
    {
      "cell_type": "code",
      "source": [
        "#predictions\n",
        "y_pred = reg.predict(x_test)"
      ],
      "metadata": {
        "id": "vLhtvfT1wve2"
      },
      "execution_count": null,
      "outputs": []
    },
    {
      "cell_type": "markdown",
      "source": [
        "**EVALUATION**"
      ],
      "metadata": {
        "id": "yM0MQVvvw9g2"
      }
    },
    {
      "cell_type": "code",
      "source": [
        "#defining mape\n",
        "def mape(actual, pred):\n",
        "    actual, pred = np.array(actual), np.array(pred)\n",
        "    return np.mean(np.abs((actual - pred) / actual)) * 100"
      ],
      "metadata": {
        "id": "9-mC0wm_w_UQ"
      },
      "execution_count": null,
      "outputs": []
    },
    {
      "cell_type": "code",
      "source": [
        "#evaluation metrics\n",
        "MAE = mean_absolute_error((y_test), (y_pred))\n",
        "print(\"MAE :\" ,MAE)\n",
        "\n",
        "MSE  = mean_squared_error((y_test), (y_pred))\n",
        "print(\"MSE :\" , MSE)\n",
        "\n",
        "RMSE = np.sqrt(MSE)\n",
        "print(\"RMSE :\" ,RMSE)\n",
        "\n",
        "MAPE=mape(y_test, y_pred)\n",
        "print(\"MAPE :\" ,MAPE)"
      ],
      "metadata": {
        "id": "Npkl4fefw_lt"
      },
      "execution_count": null,
      "outputs": []
    },
    {
      "cell_type": "code",
      "source": [
        "#Inserting errors in dataframe\n",
        "error_df.loc[i,\"Model_Name\"]='Linear regression'\n",
        "error_df.loc[i,\"MAE\"]=round(MAE,2)\n",
        "error_df.loc[i,\"MSE\"]=round(MSE,2)\n",
        "error_df.loc[i,\"RMSE\"]=round(RMSE,2)\n",
        "error_df.loc[i,\"MAPE\"]=round(MAPE,2)\n",
        "\n",
        "i+=1"
      ],
      "metadata": {
        "id": "23nwdaUsw_pP"
      },
      "execution_count": null,
      "outputs": []
    },
    {
      "cell_type": "markdown",
      "source": [
        "**VISUALIZATION**"
      ],
      "metadata": {
        "id": "TTQCcuLOxMRy"
      }
    },
    {
      "cell_type": "code",
      "source": [
        "#actual-predicted values plot\n",
        "plt.figure(figsize=(10,5))\n",
        "plt.plot(y_pred)\n",
        "plt.plot(np.array(y_test))\n",
        "plt.legend([\"Predicted\",\"Actual\"])\n",
        "plt.xlabel('No of Test Data')\n",
        "plt.show()"
      ],
      "metadata": {
        "id": "nJTxtPxRw_x2"
      },
      "execution_count": null,
      "outputs": []
    },
    {
      "cell_type": "markdown",
      "source": [
        "**LASSO REGRESSION**\n",
        "---"
      ],
      "metadata": {
        "id": "A9Td0eg9xXig"
      }
    },
    {
      "cell_type": "code",
      "source": [
        "#fitting data\n",
        "lasso  = Lasso(alpha=0.0001 , max_iter= 3000)\n",
        "lasso.fit(x_train, y_train)"
      ],
      "metadata": {
        "id": "rPm4VVUfw_2C"
      },
      "execution_count": null,
      "outputs": []
    },
    {
      "cell_type": "code",
      "source": [
        "lasso.score(x_train, y_train)"
      ],
      "metadata": {
        "id": "XuyYNZXDw_46"
      },
      "execution_count": null,
      "outputs": []
    },
    {
      "cell_type": "code",
      "source": [
        "# Cross validation\n",
        "from sklearn.model_selection import GridSearchCV\n",
        "lasso = Lasso()\n",
        "parameters = {'alpha': [1e-15,1e-13,1e-10,1e-8,1e-5,1e-4,1e-3,1e-2,1e-1,1,5,10,20,30,40,45,50,55,60,100,0.0014]}\n",
        "lasso_regressor = GridSearchCV(lasso, parameters, scoring='neg_mean_squared_error', cv=5)\n",
        "lasso_regressor.fit(x_train, y_train)"
      ],
      "metadata": {
        "id": "Pc42PyH5xhlW"
      },
      "execution_count": null,
      "outputs": []
    },
    {
      "cell_type": "code",
      "source": [
        "print(\"The best fit alpha value is found out to be :\" ,lasso_regressor.best_params_)\n",
        "print(\"\\nUsing \",lasso_regressor.best_params_, \" the negative mean squared error is: \", lasso_regressor.best_score_)"
      ],
      "metadata": {
        "id": "-fqfKhfkxhoX"
      },
      "execution_count": null,
      "outputs": []
    },
    {
      "cell_type": "code",
      "source": [
        "#prediction\n",
        "y_pred = lasso_regressor.predict(x_test)"
      ],
      "metadata": {
        "id": "yOKRmjXoxhr6"
      },
      "execution_count": null,
      "outputs": []
    },
    {
      "cell_type": "code",
      "source": [
        "#evaluation metrics\n",
        "MAE=mean_absolute_error((y_test), (y_pred))\n",
        "print(\"MAE :\" ,MAE)\n",
        "\n",
        "MSE  = mean_squared_error((y_test), (y_pred))\n",
        "print(\"MSE :\" , MSE)\n",
        "\n",
        "RMSE = np.sqrt(MSE)\n",
        "print(\"RMSE :\" ,RMSE)\n",
        "\n",
        "MAPE=mape(y_test, y_pred)\n",
        "print(\"MAPE :\" ,MAPE)"
      ],
      "metadata": {
        "id": "yJT_LDqWxhvP"
      },
      "execution_count": null,
      "outputs": []
    },
    {
      "cell_type": "code",
      "source": [
        "#Inserting errors in dataframe\n",
        "error_df.loc[i,\"Model_Name\"]='Lasso regression'\n",
        "error_df.loc[i,\"MAE\"]=round(MAE,2)\n",
        "error_df.loc[i,\"MSE\"]=round(MSE,2)\n",
        "error_df.loc[i,\"RMSE\"]=round(RMSE,2)\n",
        "error_df.loc[i,\"MAPE\"]=round(MAPE,2)\n",
        "\n",
        "\n",
        "i=i+1"
      ],
      "metadata": {
        "id": "q3WQt0WGx1Wt"
      },
      "execution_count": null,
      "outputs": []
    },
    {
      "cell_type": "markdown",
      "source": [
        "**VISUALIZATION**"
      ],
      "metadata": {
        "id": "WRfY4nlux5VQ"
      }
    },
    {
      "cell_type": "code",
      "source": [
        "#actual-predicted values plot\n",
        "plt.figure(figsize=(10,5))\n",
        "plt.plot(y_pred)\n",
        "plt.plot(np.array(y_test))\n",
        "plt.legend([\"Predicted\",\"Actual\"])\n",
        "plt.xlabel('No of Test Data')\n",
        "plt.show()"
      ],
      "metadata": {
        "id": "KGbZcOb-x1Z5"
      },
      "execution_count": null,
      "outputs": []
    },
    {
      "cell_type": "markdown",
      "source": [
        "**RIDGE REGRESSION**\n",
        "---"
      ],
      "metadata": {
        "id": "gJ6q6COTyFDa"
      }
    },
    {
      "cell_type": "code",
      "source": [
        "#fitting data\n",
        "ridge  = Ridge(alpha=0.1)\n",
        "ridge.fit(x_train,y_train)"
      ],
      "metadata": {
        "id": "wix8hD7Ex1dZ"
      },
      "execution_count": null,
      "outputs": []
    },
    {
      "cell_type": "code",
      "source": [
        "ridge.score(x_train, y_train)"
      ],
      "metadata": {
        "id": "9Vqfgl4ix1gU"
      },
      "execution_count": null,
      "outputs": []
    },
    {
      "cell_type": "code",
      "source": [
        "# Cross validation\n",
        "ridge = Ridge()\n",
        "parameters = {'alpha': [1e-15,1e-10,1e-8,1e-5,1e-4,1e-3,1e-2,1,5,10,20,30,40,45,50,55,60,100]}\n",
        "ridge_regressor = GridSearchCV(ridge, parameters, scoring='neg_mean_squared_error', cv=3)\n",
        "ridge_regressor.fit(x_train,y_train)"
      ],
      "metadata": {
        "id": "xZoq47nDx1jI"
      },
      "execution_count": null,
      "outputs": []
    },
    {
      "cell_type": "code",
      "source": [
        "print(\"The best fit alpha value is found out to be :\" ,ridge_regressor.best_params_)\n",
        "print(\"\\nUsing \",ridge_regressor.best_params_, \" the negative mean squared error is: \", ridge_regressor.best_score_)"
      ],
      "metadata": {
        "id": "oJ85y3cryYnd"
      },
      "execution_count": null,
      "outputs": []
    },
    {
      "cell_type": "code",
      "source": [
        "#Prediction\n",
        "y_pred = ridge_regressor.predict(x_test)"
      ],
      "metadata": {
        "id": "8GLc8GI6yYql"
      },
      "execution_count": null,
      "outputs": []
    },
    {
      "cell_type": "code",
      "source": [
        "#evaluation metrics\n",
        "MAE=mean_absolute_error((y_test), (y_pred))\n",
        "print(\"MAE :\" ,MAE)\n",
        "\n",
        "MSE  = mean_squared_error((y_test), (y_pred))\n",
        "print(\"MSE :\" , MSE)\n",
        "\n",
        "RMSE = np.sqrt(MSE)\n",
        "print(\"RMSE :\" ,RMSE)\n",
        "\n",
        "MAPE=mape(y_test, y_pred)\n",
        "print(\"MAPE :\" ,MAPE)"
      ],
      "metadata": {
        "id": "noj0hHPLyYuD"
      },
      "execution_count": null,
      "outputs": []
    },
    {
      "cell_type": "code",
      "source": [
        "#Inserting errors in dataframe\n",
        "error_df.loc[i,\"Model_Name\"]='Ridge regression'\n",
        "error_df.loc[i,\"MAE\"]=round(MAE,2)\n",
        "error_df.loc[i,\"MSE\"]=round(MSE,2)\n",
        "error_df.loc[i,\"RMSE\"]=round(RMSE,2)\n",
        "error_df.loc[i,\"MAPE\"]=round(MAPE,2)\n",
        "\n",
        "i=i+1"
      ],
      "metadata": {
        "id": "we_iV3hPyYwp"
      },
      "execution_count": null,
      "outputs": []
    },
    {
      "cell_type": "markdown",
      "source": [
        "**VISUALIZATION**"
      ],
      "metadata": {
        "id": "HccI6V6TymH0"
      }
    },
    {
      "cell_type": "code",
      "source": [
        "#actual-predicted values plot\n",
        "plt.figure(figsize=(10,5))\n",
        "plt.plot(y_pred)\n",
        "plt.plot(np.array(y_test))\n",
        "plt.legend([\"Predicted\",\"Actual\"])\n",
        "plt.xlabel('No of Test Data')\n",
        "plt.show()"
      ],
      "metadata": {
        "id": "5v_0jsVlyYzb"
      },
      "execution_count": null,
      "outputs": []
    },
    {
      "cell_type": "markdown",
      "source": [
        "**KNN**\n",
        "---"
      ],
      "metadata": {
        "id": "P7D4BEdOyvwY"
      }
    },
    {
      "cell_type": "code",
      "source": [
        "#hyperparameter tuning\n",
        "params = {'n_neighbors':[2,3,4,5,6,7,8,9]}\n",
        "\n",
        "knn = neighbors.KNeighborsRegressor()\n",
        "\n",
        "model = GridSearchCV(knn, params, cv=5)"
      ],
      "metadata": {
        "id": "0Tmotmt1yY4A"
      },
      "execution_count": null,
      "outputs": []
    },
    {
      "cell_type": "code",
      "source": [
        "#fitting data\n",
        "model.fit(x_train,y_train)"
      ],
      "metadata": {
        "id": "DrNXlqyZyY6v"
      },
      "execution_count": null,
      "outputs": []
    },
    {
      "cell_type": "code",
      "source": [
        "#prediction\n",
        "y_pred=model.predict(x_test)"
      ],
      "metadata": {
        "id": "xwKcX-xEyY-z"
      },
      "execution_count": null,
      "outputs": []
    },
    {
      "cell_type": "code",
      "source": [
        "#evaluation metrics\n",
        "MAE=mean_absolute_error((y_test), (y_pred))\n",
        "print(\"MAE :\" ,MAE)\n",
        "\n",
        "MSE  = mean_squared_error((y_test), (y_pred))\n",
        "print(\"MSE :\" , MSE)\n",
        "\n",
        "RMSE = np.sqrt(MSE)\n",
        "print(\"RMSE :\" ,RMSE)\n",
        "\n",
        "MAPE=mape(y_test, y_pred)\n",
        "print(\"MAPE :\" ,MAPE)"
      ],
      "metadata": {
        "id": "3mgWT6Z6x1mw"
      },
      "execution_count": null,
      "outputs": []
    },
    {
      "cell_type": "code",
      "source": [
        "#Inserting errors in dataframe\n",
        "error_df.loc[i,\"Model_Name\"]='KNN regressor'\n",
        "error_df.loc[i,\"MAE\"]=round(MAE,2)\n",
        "error_df.loc[i,\"MSE\"]=round(MSE,2)\n",
        "error_df.loc[i,\"RMSE\"]=round(RMSE,2)\n",
        "error_df.loc[i,\"MAPE\"]=round(MAPE,2)\n",
        "\n",
        "i=i+1"
      ],
      "metadata": {
        "id": "wlYmfbDjzAZk"
      },
      "execution_count": null,
      "outputs": []
    },
    {
      "cell_type": "markdown",
      "source": [
        "**VISUALIZATION**"
      ],
      "metadata": {
        "id": "oYQdKgi1zCLZ"
      }
    },
    {
      "cell_type": "code",
      "source": [
        "#actual-predicted values plot\n",
        "plt.figure(figsize=(10,5))\n",
        "plt.plot(y_pred)\n",
        "plt.plot(np.array(y_test))\n",
        "plt.legend([\"Predicted\",\"Actual\"])\n",
        "plt.xlabel('No of Test Data')\n",
        "plt.show()"
      ],
      "metadata": {
        "id": "CDSfsSzUzAcj"
      },
      "execution_count": null,
      "outputs": []
    },
    {
      "cell_type": "markdown",
      "source": [
        "**XGBOOST REGRESSOR**\n",
        "---"
      ],
      "metadata": {
        "id": "84N7vLwNzP0s"
      }
    },
    {
      "cell_type": "markdown",
      "source": [
        "Despite XGBoost being a complex and opaque technique with numerous built-in functions, we decided to feed it raw, untransformed data. Surprisingly, when compared to my manual attempts, XGBoost achieved the best results without any human intervention. It seems that the machine's inherent capabilities have outperformed my own efforts, leading me to believe that it possesses a level of intelligence that surpasses my own in this context.|^_^|\n",
        "                                                   "
      ],
      "metadata": {
        "id": "to6LSUQo0AXF"
      }
    },
    {
      "cell_type": "code",
      "source": [
        "#data split\n",
        "x_train, x_test,y_train, y_test = train_test_split((indep_var),(dep_var),test_size=.20,random_state=1)"
      ],
      "metadata": {
        "id": "xGqc1fXDzAft"
      },
      "execution_count": null,
      "outputs": []
    },
    {
      "cell_type": "code",
      "source": [
        "#fitting data\n",
        "xgb = XGBRegressor()\n",
        "xgb.fit(x_train,y_train)"
      ],
      "metadata": {
        "id": "vDgKeOrNzAip"
      },
      "execution_count": null,
      "outputs": []
    },
    {
      "cell_type": "code",
      "source": [
        "#prediction\n",
        "y_pred = xgb.predict(x_test)"
      ],
      "metadata": {
        "id": "DiefAfDYzAlN"
      },
      "execution_count": null,
      "outputs": []
    },
    {
      "cell_type": "code",
      "source": [
        "#evaluation metrics\n",
        "MAE=mean_absolute_error((y_test), (y_pred))\n",
        "print(\"MAE :\" ,MAE)\n",
        "\n",
        "MSE  = mean_squared_error((y_test), (y_pred))\n",
        "print(\"MSE :\" , MSE)\n",
        "\n",
        "RMSE = np.sqrt(MSE)\n",
        "print(\"RMSE :\" ,RMSE)\n",
        "\n",
        "MAPE=mape(y_test, y_pred)\n",
        "print(\"MAPE :\" ,MAPE)"
      ],
      "metadata": {
        "id": "Zr0Irya0zAnt"
      },
      "execution_count": null,
      "outputs": []
    },
    {
      "cell_type": "code",
      "source": [
        "#Inserting errors in dataframe\n",
        "error_df.loc[i,\"Model_Name\"]='XGBoost regressor'\n",
        "error_df.loc[i,\"MAE\"]=round(MAE,2)\n",
        "error_df.loc[i,\"MSE\"]=round(MSE,2)\n",
        "error_df.loc[i,\"RMSE\"]=round(RMSE,2)\n",
        "error_df.loc[i,\"MAPE\"]=round(MAPE,2)\n",
        "\n",
        "i=i+1"
      ],
      "metadata": {
        "id": "-7Nv46qSzArQ"
      },
      "execution_count": null,
      "outputs": []
    },
    {
      "cell_type": "markdown",
      "source": [
        "**VISUALIZATION**"
      ],
      "metadata": {
        "id": "ZSuHuWXN03ti"
      }
    },
    {
      "cell_type": "code",
      "source": [
        "plt.figure(figsize=(10,5))\n",
        "plt.plot(y_pred)\n",
        "plt.plot(np.array(y_test))\n",
        "plt.legend([\"Predicted\",\"Actual\"])\n",
        "plt.xlabel('No of Test Data')\n",
        "plt.show()"
      ],
      "metadata": {
        "id": "hexu6z8K04Hb"
      },
      "execution_count": null,
      "outputs": []
    },
    {
      "cell_type": "markdown",
      "source": [
        "# **METRICS COMPARISION**\n",
        "---"
      ],
      "metadata": {
        "id": "DsHC4Toq1B6n"
      }
    },
    {
      "cell_type": "code",
      "source": [
        "#sorting metrics\n",
        "error_df.sort_values(by=['MAE'],ascending=True,inplace=True)"
      ],
      "metadata": {
        "id": "HwOJvMST04Kj"
      },
      "execution_count": null,
      "outputs": []
    },
    {
      "cell_type": "code",
      "source": [
        "error_df"
      ],
      "metadata": {
        "id": "_ayssrkP04OT"
      },
      "execution_count": null,
      "outputs": []
    },
    {
      "cell_type": "markdown",
      "source": [
        "# **Conclusion**\n",
        "---"
      ],
      "metadata": {
        "id": "treq5Pef1PJ2"
      }
    },
    {
      "cell_type": "markdown",
      "source": [
        "1. The target variable demonstrates high dependence on the input variables.\n",
        "\n",
        "  * This implies that the input variables have a significant influence on the target variable, indicating a strong relationship between them.\n",
        "  \n",
        "2. Linear Regression achieved the best results among the tested models, with the lowest MAE, MSE, RMSE, and MAPE scores.\n",
        "\n",
        "  * Linear Regression's superior performance in terms of evaluation metrics suggests that it fits the data well and provides accurate predictions with low errors. However, it's essential to consider potential overfitting or underfitting issues and assess the significance of the relationship between the target and input variables.\n",
        "\n",
        "3. Ridge regression effectively reduced complexity and addressed multicollinearity by shrinking parameters. However, it also had some impact on the evaluation metrics.\n",
        "\n",
        "  * Ridge regression's ability to handle multicollinearity is a valuable aspect. However, the impact on evaluation metrics implies that the model's regularization might have led to some loss in predictive performance. Careful tuning of hyperparameters may be necessary to strike the right balance between complexity reduction and predictive accuracy.\n",
        "\n",
        "4. Lasso regression performed feature selection, but its results were inferior to Ridge regression, indicating that all features are important for accurate predictions.\n",
        "\n",
        "  * Lasso's feature selection capability is useful for identifying important features. However, its inferior performance compared to Ridge regression suggests that, in this specific case, all features might contribute significantly to the target variable. Feature importance analysis and domain knowledge are required to validate this finding.\n",
        "\n",
        "5. All models achieved an accuracy of more than 90%.\n",
        "\n",
        "  * This indicates that the models performed well in making correct predictions. However, accuracy alone might not be sufficient to assess the model's performance, especially if the data is imbalanced or if different error metrics reveal different aspects of the model's behavior.\n",
        "\n",
        "6. Both KNN and XGBoost showed similar results in their predictive capabilities.\n",
        "\n",
        "  * The similarity in results between KNN and XGBoost suggests that both models might be suitable for the task at hand. However, it's important to consider other factors such as model interpretability, computational efficiency, and ease of implementation while selecting the final model."
      ],
      "metadata": {
        "id": "dK7zZPvQ2DHx"
      }
    },
    {
      "cell_type": "markdown",
      "source": [
        "#**This project is useful for stakeholders in the financial domain, particularly for Yes Bank and its investors, in the following ways:**"
      ],
      "metadata": {
        "id": "kdFQaexec3m7"
      }
    },
    {
      "cell_type": "markdown",
      "source": [
        "This project is useful for stakeholders in the financial domain, particularly for Yes Bank and its investors, in the following ways:\n",
        "\n",
        "**1. Stock Price Prediction:** The main objective of the project is to predict the stock's closing price of the month. Stakeholders, including investors and traders, can use these predictive models to make informed decisions about when to buy or sell Yes Bank's stock. Accurate predictions can help them maximize their profits and minimize potential losses.\n",
        "\n",
        "**2. Risk Management:** Understanding the relationship between input variables and the target variable (stock prices) helps stakeholders assess the risk associated with investing in Yes Bank. By using predictive models like Linear Regression, Ridge Regression, Lasso Regression, KNN, and XGBoost, they can estimate potential price movements and identify risk factors that might affect the stock's performance.\n",
        "\n",
        "**3. Impact Analysis:** The project's exploration of how the fraud case involving Rana Kapoor impacted the stock prices provides valuable insights for stakeholders to understand how external events can influence the bank's stock performance. Such analysis can aid in developing risk mitigation strategies and managing the bank's reputation during challenging times.\n",
        "\n",
        "**4. Model Selection:** The comparison of different predictive models (Linear Regression, Ridge Regression, Lasso Regression, KNN, and XGBoost) allows stakeholders to choose the most suitable model for their specific needs. Depending on factors such as interpretability, efficiency, and implementation ease, stakeholders can select the model that best fits their requirements.\n",
        "\n",
        "**5. Performance Evaluation:** The evaluation metrics (MAE, MSE, RMSE, MAPE, and accuracy) provided in the conclusion enable stakeholders to assess the effectiveness of the predictive models. By considering various metrics, they can gain a comprehensive understanding of the models' performance and select the one that aligns with their priorities.\n",
        "\n",
        "**6. Investment Strategy:** Armed with accurate stock price predictions, stakeholders can devise better investment strategies. For example, they can use the models' output to optimize their trading strategies, portfolio allocations, and risk management plans.\n",
        "\n",
        "**7. Financial Planning:** Yes Bank, as an organization, can also benefit from this project. The predictive models can aid in financial planning and forecasting. They can use the models to estimate future stock prices, which can inform their decision-making processes and strategic planning.\n",
        "\n",
        "\n",
        "Overall, this project's findings and predictive models provide valuable tools and insights for stakeholders to make data-driven decisions related to investing in Yes Bank, managing risk, and optimizing their financial strategies. It can be a valuable resource for anyone involved in the bank's financial ecosystem, from individual investors to the bank's management team."
      ],
      "metadata": {
        "id": "lSa8wqodc7Ad"
      }
    },
    {
      "cell_type": "code",
      "source": [],
      "metadata": {
        "id": "Nh4eQwNBfNnF"
      },
      "execution_count": null,
      "outputs": []
    }
  ]
}